{
 "cells": [
  {
   "cell_type": "markdown",
   "metadata": {},
   "source": [
    "You can serve that model using the serve command provided in the CLI.\n",
    " \n",
    "Usage:\n",
    "```console \n",
    "spacy_ann serve examples/tutorial/models/ann_linker\n",
    "```"
   ]
  },
  {
   "cell_type": "code",
   "execution_count": 1,
   "metadata": {},
   "outputs": [],
   "source": [
    "import spacy\n",
    "nlp = spacy.blank(\"en\")"
   ]
  },
  {
   "cell_type": "code",
   "execution_count": 11,
   "metadata": {},
   "outputs": [],
   "source": [
    "# remote_ann_linker = nlp.create_pipe('remote_ann_linker', {'base_url': \"http://localhost:8080/link\"})\n",
    "# nlp.add_pipe(remote_ann_linker)\n",
    "\n",
    "remote_ann_linker = nlp.add_pipe('remote_ann_linker', config= {'cfg': {'base_url': \"http://localhost:8080/link\"}})"
   ]
  },
  {
   "cell_type": "code",
   "execution_count": 14,
   "metadata": {},
   "outputs": [],
   "source": [
    "# ruler = nlp.create_pipe('entity_ruler', {\"overwrite_ents\": True})\n",
    "# patterns = [{\"label\": \"SKILL\", \"pattern\": alias} for alias in ['machine learning', 'ML', 'NLP', 'researched']]\n",
    "# ruler.add_patterns(patterns)\n",
    "# nlp.add_pipe(ruler, before=\"remote_ann_linker\")\n",
    "\n",
    "\n",
    "ruler = nlp.add_pipe('entity_ruler', config={\"overwrite_ents\": True}, before=\"remote_ann_linker\")\n",
    "patterns = [{\"label\": \"SKILL\", \"pattern\": alias} for alias in ['machine learning', 'ML', 'NLP', 'researched']]\n",
    "ruler.add_patterns(patterns)"
   ]
  },
  {
   "cell_type": "code",
   "execution_count": 15,
   "metadata": {},
   "outputs": [
    {
     "name": "stdout",
     "output_type": "stream",
     "text": [
      "(NLP, researched, machine learning)\n"
     ]
    }
   ],
   "source": [
    "with nlp.disable_pipes('remote_ann_linker'):\n",
    "    doc = nlp('NLP is a highly researched area of machine learning')\n",
    "    print(doc.ents)"
   ]
  },
  {
   "cell_type": "code",
   "execution_count": 16,
   "metadata": {},
   "outputs": [],
   "source": [
    "texts = [\n",
    "    \"NLP is a highly researched area of machine learning\",\n",
    "    \"NLP is a pseodo-psychological concept for healing of patients.\",\n",
    "    \"I've researched many ways to apply NLP to help heal patients\"\n",
    "]"
   ]
  },
  {
   "cell_type": "code",
   "execution_count": 17,
   "metadata": {},
   "outputs": [
    {
     "data": {
      "text/plain": [
       "[('NLP', 'SKILL', 'a3'),\n",
       " ('researched', 'SKILL', 'a15'),\n",
       " ('machine learning', 'SKILL', 'a1')]"
      ]
     },
     "execution_count": 17,
     "metadata": {},
     "output_type": "execute_result"
    }
   ],
   "source": [
    "doc = nlp(texts[0])\n",
    "[(e.text, e.label_, e.kb_id_) for e in doc.ents]"
   ]
  },
  {
   "cell_type": "code",
   "execution_count": 18,
   "metadata": {},
   "outputs": [
    {
     "name": "stdout",
     "output_type": "stream",
     "text": [
      "[('NLP', 'SKILL', 'a3'), ('researched', 'SKILL', 'a15'), ('machine learning', 'SKILL', 'a1')]\n",
      "[('NLP', 'SKILL', 'a4')]\n",
      "[('researched', 'SKILL', 'a15'), ('NLP', 'SKILL', 'a4')]\n"
     ]
    }
   ],
   "source": [
    "for doc in nlp.pipe(texts):\n",
    "    print([(e.text, e.label_, e.kb_id_) for e in doc.ents])"
   ]
  },
  {
   "cell_type": "code",
   "execution_count": null,
   "metadata": {},
   "outputs": [],
   "source": []
  }
 ],
 "metadata": {
  "kernelspec": {
   "display_name": "Python 3",
   "language": "python",
   "name": "python3"
  },
  "language_info": {
   "codemirror_mode": {
    "name": "ipython",
    "version": 3
   },
   "file_extension": ".py",
   "mimetype": "text/x-python",
   "name": "python",
   "nbconvert_exporter": "python",
   "pygments_lexer": "ipython3",
   "version": "3.8.2"
  }
 },
 "nbformat": 4,
 "nbformat_minor": 4
}
